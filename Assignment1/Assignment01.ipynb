{
 "cells": [
  {
   "cell_type": "code",
   "execution_count": null,
   "metadata": {},
   "outputs": [],
   "source": []
  },
  {
   "cell_type": "code",
   "execution_count": 1,
   "metadata": {},
   "outputs": [],
   "source": [
    "%matplotlib inline\n",
    "\n",
    "import numpy as np\n",
    "import sklearn\n",
    "import pandas\n",
    "import matplotlib.pyplot as plt\n",
    "import time"
   ]
  },
  {
   "cell_type": "code",
   "execution_count": 2,
   "metadata": {},
   "outputs": [
    {
     "name": "stdout",
     "output_type": "stream",
     "text": "Loaded mnist training data in 5.40s\nLoaded mnist test data in 0.97s\nProcessed training data in 15.6s\nProcessed test data in 0.00s\n"
    }
   ],
   "source": [
    "## loading and processing the data\n",
    "init_start = time.time()\n",
    "\n",
    "train = pandas.read_csv('mnist_train.csv', header=None)\n",
    "train_load = time.time()\n",
    "print(\"Loaded mnist training data in %.4ss\" % (train_load - init_start))\n",
    "\n",
    "test = pandas.read_csv('mnist_test.csv', header=None)\n",
    "test_load = time.time()\n",
    "print(\"Loaded mnist test data in %.4ss\" % (test_load - train_load))\n",
    "\n",
    "training_data = [(train.iloc[i][1:].values/255.0, train.iloc[i][0]) for i in range(len(train))]\n",
    "train_proc = time.time()\n",
    "print(\"Processed training data in %.4ss\" % (train_proc - test_load))\n",
    "\n",
    "test_proc = time.time()\n",
    "test_data = [(test.iloc[i][1:].values/255.0, test.iloc[i][0]) for i in range(len(test))]\n",
    "print(\"Processed test data in %.4ss\" % (test_proc - train_proc))\n"
   ]
  },
  {
   "cell_type": "code",
   "execution_count": 0,
   "metadata": {},
   "outputs": [],
   "source": [
    "training_data[0]"
   ]
  },
  {
   "cell_type": "code",
   "execution_count": null,
   "metadata": {},
   "outputs": [],
   "source": [
    "## some data exploration / visualization\n",
    "grid_size = 8\n",
    "fig, ax = plt.subplots(grid_size, grid_size)\n",
    "plt.subplots_adjust(top=1.75)\n",
    "for i in range(grid_size**2):\n",
    "    cur_ax = ax[i//grid_size][i%grid_size]\n",
    "    img = np.array(train.iloc[i][1:])\n",
    "    img = np.reshape(img, (28,28))\n",
    "    \n",
    "    cur_ax.set_yticklabels([])\n",
    "    cur_ax.set_xticklabels([])\n",
    "    cur_ax.set_yticks([])\n",
    "    cur_ax.set_xticks([])\n",
    "    \n",
    "    cur_ax.set_title(train.iloc[i][0])\n",
    "    cur_ax.imshow(img, cmap='Wistia', interpolation='hanning')"
   ]
  },
  {
   "cell_type": "code",
   "execution_count": null,
   "metadata": {},
   "outputs": [],
   "source": [
    "## data preprocessing\n",
    "\n",
    "# normalize data by max possible value for a pixel (255)\n",
    "#print(train.drop(columns=[0]))# drop label\n",
    "#train[0]\n",
    "\n",
    "training_data = [(train.iloc[i][0], np.array(train.iloc[i][1:]/255.0)) for i in range(len(train))]\n",
    "test_data = [(test.iloc[i][0], np.array(test.iloc[i][1:]/255.0)) for i in range(len(test))]\n",
    "#train = train.apply(lambda x: x/255.0)\n",
    "#train = train.values\n",
    "\n",
    "#print(test.drop(columns=[0])) # drop label\n",
    "#test = test.apply(lambda x: x/255.0);\n",
    "#test = test.values"
   ]
  },
  {
   "cell_type": "code",
   "execution_count": null,
   "metadata": {},
   "outputs": [],
   "source": [
    "net = network.Network([784, 30, 10])\n",
    "net.SGD(training_data, 30, 10, 3.0, test_data)"
   ]
  },
  {
   "cell_type": "code",
   "execution_count": 0,
   "metadata": {},
   "outputs": [],
   "source": [
    "len(training_data)"
   ]
  },
  {
   "cell_type": "code",
   "execution_count": 0,
   "metadata": {},
   "outputs": [],
   "source": [
    "test_data[0]"
   ]
  },
  {
   "cell_type": "code",
   "execution_count": 0,
   "metadata": {},
   "outputs": [],
   "source": [
    "test_data[0]"
   ]
  }
 ],
 "metadata": {
  "kernelspec": {
   "display_name": "Python 3.6.7 64-bit ('base': conda)",
   "language": "python",
   "name": "python36764bitbaseconda0ef6c29cf6b147b093bf83d64e515d1b"
  },
  "language_info": {
   "codemirror_mode": {
    "name": "ipython",
    "version": 3
   },
   "file_extension": ".py",
   "mimetype": "text/x-python",
   "name": "python",
   "nbconvert_exporter": "python",
   "pygments_lexer": "ipython3",
   "version": "3.6.7-final"
  }
 },
 "nbformat": 4,
 "nbformat_minor": 2
}